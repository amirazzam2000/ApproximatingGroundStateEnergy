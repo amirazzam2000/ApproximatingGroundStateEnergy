{
 "cells": [
  {
   "cell_type": "markdown",
   "id": "89c16122",
   "metadata": {},
   "source": [
    "# Define the Functions\n",
    "\n",
    "The functions used to map the molecular Hamiltonian string into the three-dimensional vector mapping are defined in the code block below. Every Pauli operator in the Hamiltonian circuit representation is translated into a three-dimensional vector [X, Y, Z], where X, Y, and Z represent the Pauli opertors. The coeffecient of each operator is stored in the position corresponding to the operator."
   ]
  },
  {
   "cell_type": "code",
   "execution_count": 1,
   "id": "64db60ae",
   "metadata": {},
   "outputs": [],
   "source": [
    "import pickle\n",
    "import re\n",
    "import numpy as np\n",
    "\n",
    "mapping = {'X':0, 'Y':1, 'Z':2} \n",
    "\n",
    "def parse_input(h:str, ene:float):\n",
    "    timesteps = []\n",
    "    q_timesteps = {0:[]}\n",
    "    margin = 0\n",
    "    for term in h.split('+'):\n",
    "        cof = float(term[term.find(\"(\")+1:term.find(\")\")])\n",
    "        s = term[term.find(\"[\")+1:term.find(\"]\")].replace(' ', '').strip()\n",
    "        l = re.sub(\"\\d+\", \" \", s).strip().split(' ')\n",
    "        d = re.sub(\"\\D\", \" \", s).strip().split(' ')\n",
    "        \n",
    "        for q, g in list(zip(d,l)):\n",
    "            if g == 'I':\n",
    "                ene -= cof\n",
    "                margin = cof\n",
    "            else:\n",
    "                step = [0, 0, 0]\n",
    "                step[mapping[g]] = cof\n",
    "#                 step[mapping[g]] = 1\n",
    "                q = int(q)\n",
    "                if q not in q_timesteps:\n",
    "                    q_timesteps[q] = []\n",
    "                q_timesteps[q].append(step)\n",
    "                \n",
    "    \n",
    "    for key in range(max(q_timesteps.keys()) + 1):\n",
    "        if key in q_timesteps:\n",
    "            timesteps.extend(q_timesteps[key])\n",
    "        \n",
    "    return timesteps, ene, margin"
   ]
  },
  {
   "cell_type": "markdown",
   "id": "7931a9c7",
   "metadata": {},
   "source": [
    "# Apply the Mapping\n",
    "\n",
    "This part of the notebook applies the mapping defined earlier in different ways. \n"
   ]
  },
  {
   "cell_type": "markdown",
   "id": "dca7c79c",
   "metadata": {},
   "source": [
    "\n",
    "## On a Single file\n",
    "This code block applies the mapping to a single input file and returns a pickle containing the mapped Hamiltonian, its energy, and the margen defined by the Pauli identity operator in the Hamiltonian circuit."
   ]
  },
  {
   "cell_type": "code",
   "execution_count": 4,
   "id": "5ee36c98",
   "metadata": {},
   "outputs": [],
   "source": [
    "hamiltonians = []\n",
    "energies = []\n",
    "margins = []\n",
    "\n",
    "input_file =  \"Text/H2_V2.txt\"\n",
    "output_file = \"pickle/H2_V1.pkl\"\n",
    "\n",
    "with open(input_file, 'r') as file: \n",
    "    for line in file.readlines():\n",
    "        h, energy = line.split(',')\n",
    "        h_arr, energy, margin = parse_input(h, float(energy))\n",
    "        hamiltonians.append(h_arr)\n",
    "        energies.append(energy)\n",
    "        margins.append(margin)\n",
    "\n",
    "data = list(zip(hamiltonians, energies, margins))\n",
    "\n",
    "with open(output_file, 'wb') as file:\n",
    "    pickle.dump(data, file)\n"
   ]
  },
  {
   "cell_type": "markdown",
   "id": "85950d14",
   "metadata": {},
   "source": [
    "## On a List of Files\n",
    "This code block applies the same mapping to a list of input files and saves the output of each file in the appropriate pickle file."
   ]
  },
  {
   "cell_type": "code",
   "execution_count": 2,
   "id": "50f0c059",
   "metadata": {},
   "outputs": [
    {
     "name": "stdout",
     "output_type": "stream",
     "text": [
      "(475, 36, 3)\n",
      "(490, 195, 3)\n",
      "(490,)\n"
     ]
    },
    {
     "name": "stderr",
     "output_type": "stream",
     "text": [
      "/tmp/ipykernel_1153/2210140424.py:18: VisibleDeprecationWarning: Creating an ndarray from ragged nested sequences (which is a list-or-tuple of lists-or-tuples-or ndarrays with different lengths or shapes) is deprecated. If you meant to do this, you must specify 'dtype=object' when creating the ndarray.\n",
      "  print(np.array(hamiltonians).shape)\n"
     ]
    },
    {
     "name": "stdout",
     "output_type": "stream",
     "text": [
      "(490,)\n"
     ]
    }
   ],
   "source": [
    "input_files = [\"Text/O2_V1.txt\", \"Text/LiH_V1.txt\", \"Text/HO-_V1.txt\", \"Text/FLi_V1.txt\"]\n",
    "output_files = [\"pickle/O2_V2.pkl\", \"pickle/LiH_V2.pkl\", \"pickle/HO-_V2.pkl\", \"pickle/FLi_V2.pkl\"]\n",
    "\n",
    "for input_file, output_file in list(zip(input_files, output_files)):\n",
    "    hamiltonians = []\n",
    "    energies = []\n",
    "    margins = []\n",
    "    \n",
    "    with open(input_file, 'r') as file: \n",
    "        for line in file.readlines():\n",
    "            h, energy = line.split(',')\n",
    "            h_arr, energy, margin = parse_input(h, float(energy))\n",
    "            hamiltonians.append(h_arr)\n",
    "            energies.append(energy)\n",
    "            margins.append(margin)\n",
    "\n",
    "    \n",
    "    print(np.array(hamiltonians).shape)\n",
    "    data = list(zip(hamiltonians, energies, margins))\n",
    "\n",
    "    with open(output_file, 'wb') as file:\n",
    "        pickle.dump(data, file)\n",
    "\n"
   ]
  }
 ],
 "metadata": {
  "kernelspec": {
   "display_name": "Python 3 (ipykernel)",
   "language": "python",
   "name": "python3"
  },
  "language_info": {
   "codemirror_mode": {
    "name": "ipython",
    "version": 3
   },
   "file_extension": ".py",
   "mimetype": "text/x-python",
   "name": "python",
   "nbconvert_exporter": "python",
   "pygments_lexer": "ipython3",
   "version": "3.9.5"
  }
 },
 "nbformat": 4,
 "nbformat_minor": 5
}
